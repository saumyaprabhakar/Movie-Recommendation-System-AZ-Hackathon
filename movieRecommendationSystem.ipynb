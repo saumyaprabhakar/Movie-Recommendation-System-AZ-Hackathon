{
 "cells": [
  {
   "cell_type": "code",
   "execution_count": 1,
   "id": "b02527b4",
   "metadata": {},
   "outputs": [],
   "source": [
    "%matplotlib inline\n",
    "import pandas as pd\n",
    "import numpy as np\n",
    "import matplotlib.pyplot as plt\n",
    "import seaborn as sns\n",
    "from scipy import stats\n",
    "from ast import literal_eval\n",
    "from sklearn.feature_extraction.text import TfidfVectorizer, CountVectorizer\n",
    "from sklearn.metrics.pairwise import linear_kernel, cosine_similarity\n",
    "from nltk.stem.snowball import SnowballStemmer\n",
    "from nltk.stem.wordnet import WordNetLemmatizer\n",
    "from nltk.corpus import wordnet\n",
    "from surprise import Reader, Dataset, SVD\n",
    "from surprise.model_selection import cross_validate\n",
    "import pandastable as pt\n",
    "import warnings; warnings.simplefilter('ignore')"
   ]
  },
  {
   "cell_type": "code",
   "execution_count": 2,
   "id": "b7dd381f",
   "metadata": {},
   "outputs": [],
   "source": [
    "import tkinter as tk\n",
    "import tkinter.ttk\n",
    "from tkinter import *\n",
    "from tkinter import ttk\n",
    "import tkinter.messagebox as tkm\n",
    "from PIL import Image, ImageTk\n",
    "import pyglet\n"
   ]
  },
  {
   "cell_type": "markdown",
   "id": "f51a83ba",
   "metadata": {},
   "source": [
    "# Simple Recommendation System #\n"
   ]
  },
  {
   "cell_type": "markdown",
   "id": "792198d8",
   "metadata": {},
   "source": [
    "This is done by sorting the movies on the basis of popularity and ratings and then display on the top. This type of system gives generalized movie recommendations only. "
   ]
  },
  {
   "cell_type": "code",
   "execution_count": 3,
   "id": "4582da5f",
   "metadata": {},
   "outputs": [
    {
     "data": {
      "text/html": [
       "<div>\n",
       "<style scoped>\n",
       "    .dataframe tbody tr th:only-of-type {\n",
       "        vertical-align: middle;\n",
       "    }\n",
       "\n",
       "    .dataframe tbody tr th {\n",
       "        vertical-align: top;\n",
       "    }\n",
       "\n",
       "    .dataframe thead th {\n",
       "        text-align: right;\n",
       "    }\n",
       "</style>\n",
       "<table border=\"1\" class=\"dataframe\">\n",
       "  <thead>\n",
       "    <tr style=\"text-align: right;\">\n",
       "      <th></th>\n",
       "      <th>adult</th>\n",
       "      <th>belongs_to_collection</th>\n",
       "      <th>budget</th>\n",
       "      <th>genres</th>\n",
       "      <th>homepage</th>\n",
       "      <th>id</th>\n",
       "      <th>imdb_id</th>\n",
       "      <th>original_language</th>\n",
       "      <th>original_title</th>\n",
       "      <th>overview</th>\n",
       "      <th>...</th>\n",
       "      <th>release_date</th>\n",
       "      <th>revenue</th>\n",
       "      <th>runtime</th>\n",
       "      <th>spoken_languages</th>\n",
       "      <th>status</th>\n",
       "      <th>tagline</th>\n",
       "      <th>title</th>\n",
       "      <th>video</th>\n",
       "      <th>vote_average</th>\n",
       "      <th>vote_count</th>\n",
       "    </tr>\n",
       "  </thead>\n",
       "  <tbody>\n",
       "    <tr>\n",
       "      <th>0</th>\n",
       "      <td>False</td>\n",
       "      <td>{'id': 10194, 'name': 'Toy Story Collection', ...</td>\n",
       "      <td>30000000</td>\n",
       "      <td>[{'id': 16, 'name': 'Animation'}, {'id': 35, '...</td>\n",
       "      <td>http://toystory.disney.com/toy-story</td>\n",
       "      <td>862</td>\n",
       "      <td>tt0114709</td>\n",
       "      <td>en</td>\n",
       "      <td>Toy Story</td>\n",
       "      <td>Led by Woody, Andy's toys live happily in his ...</td>\n",
       "      <td>...</td>\n",
       "      <td>1995-10-30</td>\n",
       "      <td>373554033.0</td>\n",
       "      <td>81.0</td>\n",
       "      <td>[{'iso_639_1': 'en', 'name': 'English'}]</td>\n",
       "      <td>Released</td>\n",
       "      <td>NaN</td>\n",
       "      <td>Toy Story</td>\n",
       "      <td>False</td>\n",
       "      <td>7.7</td>\n",
       "      <td>5415.0</td>\n",
       "    </tr>\n",
       "    <tr>\n",
       "      <th>1</th>\n",
       "      <td>False</td>\n",
       "      <td>NaN</td>\n",
       "      <td>65000000</td>\n",
       "      <td>[{'id': 12, 'name': 'Adventure'}, {'id': 14, '...</td>\n",
       "      <td>NaN</td>\n",
       "      <td>8844</td>\n",
       "      <td>tt0113497</td>\n",
       "      <td>en</td>\n",
       "      <td>Jumanji</td>\n",
       "      <td>When siblings Judy and Peter discover an encha...</td>\n",
       "      <td>...</td>\n",
       "      <td>1995-12-15</td>\n",
       "      <td>262797249.0</td>\n",
       "      <td>104.0</td>\n",
       "      <td>[{'iso_639_1': 'en', 'name': 'English'}, {'iso...</td>\n",
       "      <td>Released</td>\n",
       "      <td>Roll the dice and unleash the excitement!</td>\n",
       "      <td>Jumanji</td>\n",
       "      <td>False</td>\n",
       "      <td>6.9</td>\n",
       "      <td>2413.0</td>\n",
       "    </tr>\n",
       "    <tr>\n",
       "      <th>2</th>\n",
       "      <td>False</td>\n",
       "      <td>{'id': 119050, 'name': 'Grumpy Old Men Collect...</td>\n",
       "      <td>0</td>\n",
       "      <td>[{'id': 10749, 'name': 'Romance'}, {'id': 35, ...</td>\n",
       "      <td>NaN</td>\n",
       "      <td>15602</td>\n",
       "      <td>tt0113228</td>\n",
       "      <td>en</td>\n",
       "      <td>Grumpier Old Men</td>\n",
       "      <td>A family wedding reignites the ancient feud be...</td>\n",
       "      <td>...</td>\n",
       "      <td>1995-12-22</td>\n",
       "      <td>0.0</td>\n",
       "      <td>101.0</td>\n",
       "      <td>[{'iso_639_1': 'en', 'name': 'English'}]</td>\n",
       "      <td>Released</td>\n",
       "      <td>Still Yelling. Still Fighting. Still Ready for...</td>\n",
       "      <td>Grumpier Old Men</td>\n",
       "      <td>False</td>\n",
       "      <td>6.5</td>\n",
       "      <td>92.0</td>\n",
       "    </tr>\n",
       "    <tr>\n",
       "      <th>3</th>\n",
       "      <td>False</td>\n",
       "      <td>NaN</td>\n",
       "      <td>16000000</td>\n",
       "      <td>[{'id': 35, 'name': 'Comedy'}, {'id': 18, 'nam...</td>\n",
       "      <td>NaN</td>\n",
       "      <td>31357</td>\n",
       "      <td>tt0114885</td>\n",
       "      <td>en</td>\n",
       "      <td>Waiting to Exhale</td>\n",
       "      <td>Cheated on, mistreated and stepped on, the wom...</td>\n",
       "      <td>...</td>\n",
       "      <td>1995-12-22</td>\n",
       "      <td>81452156.0</td>\n",
       "      <td>127.0</td>\n",
       "      <td>[{'iso_639_1': 'en', 'name': 'English'}]</td>\n",
       "      <td>Released</td>\n",
       "      <td>Friends are the people who let you be yourself...</td>\n",
       "      <td>Waiting to Exhale</td>\n",
       "      <td>False</td>\n",
       "      <td>6.1</td>\n",
       "      <td>34.0</td>\n",
       "    </tr>\n",
       "    <tr>\n",
       "      <th>4</th>\n",
       "      <td>False</td>\n",
       "      <td>{'id': 96871, 'name': 'Father of the Bride Col...</td>\n",
       "      <td>0</td>\n",
       "      <td>[{'id': 35, 'name': 'Comedy'}]</td>\n",
       "      <td>NaN</td>\n",
       "      <td>11862</td>\n",
       "      <td>tt0113041</td>\n",
       "      <td>en</td>\n",
       "      <td>Father of the Bride Part II</td>\n",
       "      <td>Just when George Banks has recovered from his ...</td>\n",
       "      <td>...</td>\n",
       "      <td>1995-02-10</td>\n",
       "      <td>76578911.0</td>\n",
       "      <td>106.0</td>\n",
       "      <td>[{'iso_639_1': 'en', 'name': 'English'}]</td>\n",
       "      <td>Released</td>\n",
       "      <td>Just When His World Is Back To Normal... He's ...</td>\n",
       "      <td>Father of the Bride Part II</td>\n",
       "      <td>False</td>\n",
       "      <td>5.7</td>\n",
       "      <td>173.0</td>\n",
       "    </tr>\n",
       "  </tbody>\n",
       "</table>\n",
       "<p>5 rows × 24 columns</p>\n",
       "</div>"
      ],
      "text/plain": [
       "   adult                              belongs_to_collection    budget  \\\n",
       "0  False  {'id': 10194, 'name': 'Toy Story Collection', ...  30000000   \n",
       "1  False                                                NaN  65000000   \n",
       "2  False  {'id': 119050, 'name': 'Grumpy Old Men Collect...         0   \n",
       "3  False                                                NaN  16000000   \n",
       "4  False  {'id': 96871, 'name': 'Father of the Bride Col...         0   \n",
       "\n",
       "                                              genres  \\\n",
       "0  [{'id': 16, 'name': 'Animation'}, {'id': 35, '...   \n",
       "1  [{'id': 12, 'name': 'Adventure'}, {'id': 14, '...   \n",
       "2  [{'id': 10749, 'name': 'Romance'}, {'id': 35, ...   \n",
       "3  [{'id': 35, 'name': 'Comedy'}, {'id': 18, 'nam...   \n",
       "4                     [{'id': 35, 'name': 'Comedy'}]   \n",
       "\n",
       "                               homepage     id    imdb_id original_language  \\\n",
       "0  http://toystory.disney.com/toy-story    862  tt0114709                en   \n",
       "1                                   NaN   8844  tt0113497                en   \n",
       "2                                   NaN  15602  tt0113228                en   \n",
       "3                                   NaN  31357  tt0114885                en   \n",
       "4                                   NaN  11862  tt0113041                en   \n",
       "\n",
       "                original_title  \\\n",
       "0                    Toy Story   \n",
       "1                      Jumanji   \n",
       "2             Grumpier Old Men   \n",
       "3            Waiting to Exhale   \n",
       "4  Father of the Bride Part II   \n",
       "\n",
       "                                            overview  ... release_date  \\\n",
       "0  Led by Woody, Andy's toys live happily in his ...  ...   1995-10-30   \n",
       "1  When siblings Judy and Peter discover an encha...  ...   1995-12-15   \n",
       "2  A family wedding reignites the ancient feud be...  ...   1995-12-22   \n",
       "3  Cheated on, mistreated and stepped on, the wom...  ...   1995-12-22   \n",
       "4  Just when George Banks has recovered from his ...  ...   1995-02-10   \n",
       "\n",
       "       revenue runtime                                   spoken_languages  \\\n",
       "0  373554033.0    81.0           [{'iso_639_1': 'en', 'name': 'English'}]   \n",
       "1  262797249.0   104.0  [{'iso_639_1': 'en', 'name': 'English'}, {'iso...   \n",
       "2          0.0   101.0           [{'iso_639_1': 'en', 'name': 'English'}]   \n",
       "3   81452156.0   127.0           [{'iso_639_1': 'en', 'name': 'English'}]   \n",
       "4   76578911.0   106.0           [{'iso_639_1': 'en', 'name': 'English'}]   \n",
       "\n",
       "     status                                            tagline  \\\n",
       "0  Released                                                NaN   \n",
       "1  Released          Roll the dice and unleash the excitement!   \n",
       "2  Released  Still Yelling. Still Fighting. Still Ready for...   \n",
       "3  Released  Friends are the people who let you be yourself...   \n",
       "4  Released  Just When His World Is Back To Normal... He's ...   \n",
       "\n",
       "                         title  video vote_average vote_count  \n",
       "0                    Toy Story  False          7.7     5415.0  \n",
       "1                      Jumanji  False          6.9     2413.0  \n",
       "2             Grumpier Old Men  False          6.5       92.0  \n",
       "3            Waiting to Exhale  False          6.1       34.0  \n",
       "4  Father of the Bride Part II  False          5.7      173.0  \n",
       "\n",
       "[5 rows x 24 columns]"
      ]
     },
     "execution_count": 3,
     "metadata": {},
     "output_type": "execute_result"
    }
   ],
   "source": [
    "md = pd. read_csv(r'C:\\Users\\saumy\\Downloads\\Dataset\\movies_metadata.csv')\n",
    "md.head()"
   ]
  },
  {
   "cell_type": "code",
   "execution_count": 4,
   "id": "31b09667",
   "metadata": {},
   "outputs": [],
   "source": [
    "md['genres'] = md['genres'].fillna('[]').apply(literal_eval).apply(lambda x: [i['name'] for i in x] if isinstance(x, list) else [])"
   ]
  },
  {
   "cell_type": "markdown",
   "id": "443e2dc4",
   "metadata": {},
   "source": [
    "We will use IMDB's Weighted Rating formula to construct the recommendation chart. \n",
    "\n",
    "Weighted Rating (WR) =  (v/v+m.R)+(m/v+m.C) \n",
    "where,\n",
    "\n",
    "v is the number of votes for the movie\n",
    "m is the minimum votes required to be listed in the chart\n",
    "R is the average rating of the movie\n",
    "C is the mean vote across the whole report\n",
    "\n",
    "\n",
    "Now a movie should have a minimum number of votes to qualify for the recommendation chart. Setting this cutoff as 93 percentile. "
   ]
  },
  {
   "cell_type": "code",
   "execution_count": 5,
   "id": "0fb79355",
   "metadata": {},
   "outputs": [
    {
     "data": {
      "text/plain": [
       "5.244896612406511"
      ]
     },
     "execution_count": 5,
     "metadata": {},
     "output_type": "execute_result"
    }
   ],
   "source": [
    "vote_counts = md[md['vote_count'].notnull()]['vote_count'].astype('int')\n",
    "vote_averages = md[md['vote_average'].notnull()]['vote_average'].astype('int')\n",
    "C = vote_averages.mean()\n",
    "C"
   ]
  },
  {
   "cell_type": "code",
   "execution_count": 6,
   "id": "b8a4ce48",
   "metadata": {},
   "outputs": [
    {
     "data": {
      "text/plain": [
       "281.0"
      ]
     },
     "execution_count": 6,
     "metadata": {},
     "output_type": "execute_result"
    }
   ],
   "source": [
    "m = vote_counts.quantile(0.93)\n",
    "m"
   ]
  },
  {
   "cell_type": "code",
   "execution_count": 7,
   "id": "5c4184a5",
   "metadata": {},
   "outputs": [],
   "source": [
    "md['year'] = pd.to_datetime(md['release_date'], errors='coerce').apply(lambda x: str(x).split('-')[0] if x != np.nan else np.nan)"
   ]
  },
  {
   "cell_type": "code",
   "execution_count": 8,
   "id": "94707612",
   "metadata": {},
   "outputs": [
    {
     "data": {
      "text/plain": [
       "(3189, 6)"
      ]
     },
     "execution_count": 8,
     "metadata": {},
     "output_type": "execute_result"
    }
   ],
   "source": [
    "qualified = md[(md['vote_count'] >= m) & (md['vote_count'].notnull()) & (md['vote_average'].notnull())][['title', 'year', 'vote_count', 'vote_average', 'popularity', 'genres']]\n",
    "qualified['vote_count'] = qualified['vote_count'].astype('int')\n",
    "qualified['vote_average'] = qualified['vote_average'].astype('int')\n",
    "qualified.shape"
   ]
  },
  {
   "cell_type": "markdown",
   "id": "7195d471",
   "metadata": {},
   "source": [
    "Therefore, the average rating for a movie on TMDB is **5.245**\n",
    "Minimum number of votes a movie should have to be considered on the charts = **281**\n",
    "Number of movies that qualify to be on the charts = __3189__"
   ]
  },
  {
   "cell_type": "markdown",
   "id": "85038c6a",
   "metadata": {},
   "source": [
    "Next, we will calculate the Weighted Rating and sort the movies according to the ratings"
   ]
  },
  {
   "cell_type": "code",
   "execution_count": 9,
   "id": "1cdeb2c4",
   "metadata": {},
   "outputs": [],
   "source": [
    "def weighted_rating(x):\n",
    "    v = x['vote_count']\n",
    "    R = x['vote_average']\n",
    "    return (v/(v+m) * R) + (m/(m+v) * C)"
   ]
  },
  {
   "cell_type": "code",
   "execution_count": 10,
   "id": "38cbc7c0",
   "metadata": {},
   "outputs": [],
   "source": [
    "qualified['wr'] = qualified.apply(weighted_rating, axis=1)"
   ]
  },
  {
   "cell_type": "code",
   "execution_count": 11,
   "id": "0b3ecdec",
   "metadata": {},
   "outputs": [],
   "source": [
    "qualified = qualified.sort_values('wr', ascending=False).head(250)"
   ]
  },
  {
   "cell_type": "markdown",
   "id": "054bd494",
   "metadata": {},
   "source": [
    "## Top Movie Charts #"
   ]
  },
  {
   "cell_type": "code",
   "execution_count": 12,
   "id": "4e874353",
   "metadata": {},
   "outputs": [
    {
     "data": {
      "text/html": [
       "<div>\n",
       "<style scoped>\n",
       "    .dataframe tbody tr th:only-of-type {\n",
       "        vertical-align: middle;\n",
       "    }\n",
       "\n",
       "    .dataframe tbody tr th {\n",
       "        vertical-align: top;\n",
       "    }\n",
       "\n",
       "    .dataframe thead th {\n",
       "        text-align: right;\n",
       "    }\n",
       "</style>\n",
       "<table border=\"1\" class=\"dataframe\">\n",
       "  <thead>\n",
       "    <tr style=\"text-align: right;\">\n",
       "      <th></th>\n",
       "      <th>title</th>\n",
       "      <th>year</th>\n",
       "      <th>vote_count</th>\n",
       "      <th>vote_average</th>\n",
       "      <th>popularity</th>\n",
       "      <th>genres</th>\n",
       "      <th>wr</th>\n",
       "    </tr>\n",
       "  </thead>\n",
       "  <tbody>\n",
       "    <tr>\n",
       "      <th>15480</th>\n",
       "      <td>Inception</td>\n",
       "      <td>2010</td>\n",
       "      <td>14075</td>\n",
       "      <td>8</td>\n",
       "      <td>29.108149</td>\n",
       "      <td>[Action, Thriller, Science Fiction, Mystery, A...</td>\n",
       "      <td>7.946072</td>\n",
       "    </tr>\n",
       "    <tr>\n",
       "      <th>12481</th>\n",
       "      <td>The Dark Knight</td>\n",
       "      <td>2008</td>\n",
       "      <td>12269</td>\n",
       "      <td>8</td>\n",
       "      <td>123.167259</td>\n",
       "      <td>[Drama, Action, Crime, Thriller]</td>\n",
       "      <td>7.938312</td>\n",
       "    </tr>\n",
       "    <tr>\n",
       "      <th>22879</th>\n",
       "      <td>Interstellar</td>\n",
       "      <td>2014</td>\n",
       "      <td>11187</td>\n",
       "      <td>8</td>\n",
       "      <td>32.213481</td>\n",
       "      <td>[Adventure, Drama, Science Fiction]</td>\n",
       "      <td>7.932492</td>\n",
       "    </tr>\n",
       "    <tr>\n",
       "      <th>2843</th>\n",
       "      <td>Fight Club</td>\n",
       "      <td>1999</td>\n",
       "      <td>9678</td>\n",
       "      <td>8</td>\n",
       "      <td>63.869599</td>\n",
       "      <td>[Drama]</td>\n",
       "      <td>7.922263</td>\n",
       "    </tr>\n",
       "    <tr>\n",
       "      <th>4863</th>\n",
       "      <td>The Lord of the Rings: The Fellowship of the Ring</td>\n",
       "      <td>2001</td>\n",
       "      <td>8892</td>\n",
       "      <td>8</td>\n",
       "      <td>32.070725</td>\n",
       "      <td>[Adventure, Fantasy, Action]</td>\n",
       "      <td>7.915602</td>\n",
       "    </tr>\n",
       "    <tr>\n",
       "      <th>292</th>\n",
       "      <td>Pulp Fiction</td>\n",
       "      <td>1994</td>\n",
       "      <td>8670</td>\n",
       "      <td>8</td>\n",
       "      <td>140.950236</td>\n",
       "      <td>[Thriller, Crime]</td>\n",
       "      <td>7.913509</td>\n",
       "    </tr>\n",
       "    <tr>\n",
       "      <th>314</th>\n",
       "      <td>The Shawshank Redemption</td>\n",
       "      <td>1994</td>\n",
       "      <td>8358</td>\n",
       "      <td>8</td>\n",
       "      <td>51.645403</td>\n",
       "      <td>[Drama, Crime]</td>\n",
       "      <td>7.910385</td>\n",
       "    </tr>\n",
       "    <tr>\n",
       "      <th>7000</th>\n",
       "      <td>The Lord of the Rings: The Return of the King</td>\n",
       "      <td>2003</td>\n",
       "      <td>8226</td>\n",
       "      <td>8</td>\n",
       "      <td>29.324358</td>\n",
       "      <td>[Adventure, Fantasy, Action]</td>\n",
       "      <td>7.908994</td>\n",
       "    </tr>\n",
       "    <tr>\n",
       "      <th>351</th>\n",
       "      <td>Forrest Gump</td>\n",
       "      <td>1994</td>\n",
       "      <td>8147</td>\n",
       "      <td>8</td>\n",
       "      <td>48.307194</td>\n",
       "      <td>[Comedy, Drama, Romance]</td>\n",
       "      <td>7.908141</td>\n",
       "    </tr>\n",
       "    <tr>\n",
       "      <th>5814</th>\n",
       "      <td>The Lord of the Rings: The Two Towers</td>\n",
       "      <td>2002</td>\n",
       "      <td>7641</td>\n",
       "      <td>8</td>\n",
       "      <td>29.423537</td>\n",
       "      <td>[Adventure, Fantasy, Action]</td>\n",
       "      <td>7.902274</td>\n",
       "    </tr>\n",
       "    <tr>\n",
       "      <th>256</th>\n",
       "      <td>Star Wars</td>\n",
       "      <td>1977</td>\n",
       "      <td>6778</td>\n",
       "      <td>8</td>\n",
       "      <td>42.149697</td>\n",
       "      <td>[Adventure, Action, Science Fiction]</td>\n",
       "      <td>7.890327</td>\n",
       "    </tr>\n",
       "    <tr>\n",
       "      <th>1225</th>\n",
       "      <td>Back to the Future</td>\n",
       "      <td>1985</td>\n",
       "      <td>6239</td>\n",
       "      <td>8</td>\n",
       "      <td>25.778509</td>\n",
       "      <td>[Adventure, Comedy, Science Fiction, Family]</td>\n",
       "      <td>7.881260</td>\n",
       "    </tr>\n",
       "    <tr>\n",
       "      <th>10309</th>\n",
       "      <td>Dilwale Dulhania Le Jayenge</td>\n",
       "      <td>1995</td>\n",
       "      <td>661</td>\n",
       "      <td>9</td>\n",
       "      <td>34.457024</td>\n",
       "      <td>[Comedy, Drama, Romance]</td>\n",
       "      <td>7.879847</td>\n",
       "    </tr>\n",
       "    <tr>\n",
       "      <th>834</th>\n",
       "      <td>The Godfather</td>\n",
       "      <td>1972</td>\n",
       "      <td>6024</td>\n",
       "      <td>8</td>\n",
       "      <td>41.109264</td>\n",
       "      <td>[Drama, Crime]</td>\n",
       "      <td>7.877211</td>\n",
       "    </tr>\n",
       "    <tr>\n",
       "      <th>1154</th>\n",
       "      <td>The Empire Strikes Back</td>\n",
       "      <td>1980</td>\n",
       "      <td>5998</td>\n",
       "      <td>8</td>\n",
       "      <td>19.470959</td>\n",
       "      <td>[Adventure, Action, Science Fiction]</td>\n",
       "      <td>7.876703</td>\n",
       "    </tr>\n",
       "  </tbody>\n",
       "</table>\n",
       "</div>"
      ],
      "text/plain": [
       "                                                   title  year  vote_count  \\\n",
       "15480                                          Inception  2010       14075   \n",
       "12481                                    The Dark Knight  2008       12269   \n",
       "22879                                       Interstellar  2014       11187   \n",
       "2843                                          Fight Club  1999        9678   \n",
       "4863   The Lord of the Rings: The Fellowship of the Ring  2001        8892   \n",
       "292                                         Pulp Fiction  1994        8670   \n",
       "314                             The Shawshank Redemption  1994        8358   \n",
       "7000       The Lord of the Rings: The Return of the King  2003        8226   \n",
       "351                                         Forrest Gump  1994        8147   \n",
       "5814               The Lord of the Rings: The Two Towers  2002        7641   \n",
       "256                                            Star Wars  1977        6778   \n",
       "1225                                  Back to the Future  1985        6239   \n",
       "10309                        Dilwale Dulhania Le Jayenge  1995         661   \n",
       "834                                        The Godfather  1972        6024   \n",
       "1154                             The Empire Strikes Back  1980        5998   \n",
       "\n",
       "       vote_average  popularity  \\\n",
       "15480             8   29.108149   \n",
       "12481             8  123.167259   \n",
       "22879             8   32.213481   \n",
       "2843              8   63.869599   \n",
       "4863              8   32.070725   \n",
       "292               8  140.950236   \n",
       "314               8   51.645403   \n",
       "7000              8   29.324358   \n",
       "351               8   48.307194   \n",
       "5814              8   29.423537   \n",
       "256               8   42.149697   \n",
       "1225              8   25.778509   \n",
       "10309             9   34.457024   \n",
       "834               8   41.109264   \n",
       "1154              8   19.470959   \n",
       "\n",
       "                                                  genres        wr  \n",
       "15480  [Action, Thriller, Science Fiction, Mystery, A...  7.946072  \n",
       "12481                   [Drama, Action, Crime, Thriller]  7.938312  \n",
       "22879                [Adventure, Drama, Science Fiction]  7.932492  \n",
       "2843                                             [Drama]  7.922263  \n",
       "4863                        [Adventure, Fantasy, Action]  7.915602  \n",
       "292                                    [Thriller, Crime]  7.913509  \n",
       "314                                       [Drama, Crime]  7.910385  \n",
       "7000                        [Adventure, Fantasy, Action]  7.908994  \n",
       "351                             [Comedy, Drama, Romance]  7.908141  \n",
       "5814                        [Adventure, Fantasy, Action]  7.902274  \n",
       "256                 [Adventure, Action, Science Fiction]  7.890327  \n",
       "1225        [Adventure, Comedy, Science Fiction, Family]  7.881260  \n",
       "10309                           [Comedy, Drama, Romance]  7.879847  \n",
       "834                                       [Drama, Crime]  7.877211  \n",
       "1154                [Adventure, Action, Science Fiction]  7.876703  "
      ]
     },
     "execution_count": 12,
     "metadata": {},
     "output_type": "execute_result"
    }
   ],
   "source": [
    "qualified.head(15)"
   ]
  },
  {
   "cell_type": "markdown",
   "id": "006211d6",
   "metadata": {},
   "source": [
    "## Genre Specific Charts"
   ]
  },
  {
   "cell_type": "markdown",
   "id": "af46cef9",
   "metadata": {},
   "source": [
    "Now constructing charts for particular genres like Comedy, Action, Romance, etc,. For genre specific charts we will take the minimum votes required to be 85 percentile. "
   ]
  },
  {
   "cell_type": "code",
   "execution_count": 13,
   "id": "f2e8578f",
   "metadata": {},
   "outputs": [],
   "source": [
    "s = md.apply(lambda x: pd.Series(x['genres']),axis=1).stack().reset_index(level=1, drop=True)\n",
    "s.name = 'genre'\n",
    "gen_md = md.drop('genres', axis=1).join(s)"
   ]
  },
  {
   "cell_type": "code",
   "execution_count": 14,
   "id": "9d683e82",
   "metadata": {},
   "outputs": [],
   "source": [
    "def build_chart(genre, percentile=0.85):\n",
    "    df = gen_md[gen_md['genre'] == genre]\n",
    "    vote_counts = df[df['vote_count'].notnull()]['vote_count'].astype('int')\n",
    "    vote_averages = df[df['vote_average'].notnull()]['vote_average'].astype('int')\n",
    "    C = vote_averages.mean()\n",
    "    m = vote_counts.quantile(percentile)\n",
    "    \n",
    "    qualified = df[(df['vote_count'] >= m) & (df['vote_count'].notnull()) & (df['vote_average'].notnull())][['title', 'year', 'vote_count', 'vote_average', 'popularity']]\n",
    "    qualified['vote_count'] = qualified['vote_count'].astype('int')\n",
    "    qualified['vote_average'] = qualified['vote_average'].astype('int')\n",
    "    \n",
    "    qualified['wr'] = qualified.apply(lambda x: (x['vote_count']/(x['vote_count']+m) * x['vote_average']) + (m/(m+x['vote_count']) * C), axis=1)\n",
    "    qualified = qualified.sort_values('wr', ascending=False).head(15)\n",
    "   \n",
    "    #Returning the list\n",
    "    lll = qualified['title'].tolist()\n",
    "    return lll"
   ]
  },
  {
   "cell_type": "markdown",
   "id": "a46ede6c",
   "metadata": {},
   "source": [
    "### Top Comedy Movies ###"
   ]
  },
  {
   "cell_type": "code",
   "execution_count": 15,
   "id": "68184dcc",
   "metadata": {},
   "outputs": [
    {
     "data": {
      "text/plain": [
       "['Dilwale Dulhania Le Jayenge',\n",
       " 'Forrest Gump',\n",
       " 'Back to the Future',\n",
       " 'The Intouchables',\n",
       " 'The Grand Budapest Hotel',\n",
       " 'Life Is Beautiful',\n",
       " 'Dr. Strangelove or: How I Learned to Stop Worrying and Love the Bomb',\n",
       " 'Modern Times',\n",
       " 'Some Like It Hot',\n",
       " 'The Great Dictator',\n",
       " 'The Apartment',\n",
       " 'City Lights',\n",
       " 'Feast',\n",
       " 'The Kid',\n",
       " 'The General']"
      ]
     },
     "execution_count": 15,
     "metadata": {},
     "output_type": "execute_result"
    }
   ],
   "source": [
    "build_chart('Comedy')"
   ]
  },
  {
   "cell_type": "markdown",
   "id": "e8ba178b",
   "metadata": {},
   "source": [
    "### Top Romance Movies ###"
   ]
  },
  {
   "cell_type": "code",
   "execution_count": 16,
   "id": "00e8d3f6",
   "metadata": {},
   "outputs": [
    {
     "data": {
      "text/plain": [
       "['Dilwale Dulhania Le Jayenge',\n",
       " 'Forrest Gump',\n",
       " 'Vertigo',\n",
       " 'Your Name.',\n",
       " 'Some Like It Hot',\n",
       " 'Cinema Paradiso',\n",
       " 'Paperman',\n",
       " 'Sing Street',\n",
       " 'The Apartment',\n",
       " 'The Handmaiden',\n",
       " 'City Lights',\n",
       " 'The Way He Looks',\n",
       " 'In a Heartbeat',\n",
       " 'Titanic',\n",
       " 'Silver Linings Playbook']"
      ]
     },
     "execution_count": 16,
     "metadata": {},
     "output_type": "execute_result"
    }
   ],
   "source": [
    "build_chart('Romance')"
   ]
  },
  {
   "cell_type": "markdown",
   "id": "6d5e75a1",
   "metadata": {},
   "source": [
    "### Top Thriller Movies ###"
   ]
  },
  {
   "cell_type": "code",
   "execution_count": 17,
   "id": "b91b174d",
   "metadata": {},
   "outputs": [
    {
     "data": {
      "text/plain": [
       "['Inception',\n",
       " 'The Dark Knight',\n",
       " 'Pulp Fiction',\n",
       " 'Se7en',\n",
       " 'The Imitation Game',\n",
       " 'The Silence of the Lambs',\n",
       " 'The Prestige',\n",
       " 'Leon: The Professional',\n",
       " 'Memento',\n",
       " 'The Shining',\n",
       " 'Reservoir Dogs',\n",
       " 'The Usual Suspects',\n",
       " 'Scarface',\n",
       " 'Room',\n",
       " 'Psycho']"
      ]
     },
     "execution_count": 17,
     "metadata": {},
     "output_type": "execute_result"
    }
   ],
   "source": [
    "build_chart('Thriller')"
   ]
  },
  {
   "cell_type": "markdown",
   "id": "ead6627b",
   "metadata": {},
   "source": [
    "# Content Based Recommendation System #"
   ]
  },
  {
   "cell_type": "markdown",
   "id": "0ebac310",
   "metadata": {},
   "source": [
    "To personalize the recommendations we will now build a content based recomendation system taking into account the parameters like the movie taglines, cast, crew, actors, etc."
   ]
  },
  {
   "cell_type": "markdown",
   "id": "c3d87e79",
   "metadata": {},
   "source": [
    "To build the recommendation system we can take two separate parameters which will include\n",
    "1) Movie description \n",
    "2) Movie cast, crew and genre"
   ]
  },
  {
   "cell_type": "code",
   "execution_count": 18,
   "id": "3acbb4ed",
   "metadata": {},
   "outputs": [],
   "source": [
    "links_small = pd.read_csv(r'C:\\Users\\saumy\\Downloads\\Dataset\\links_small.csv')\n",
    "links_small = links_small[links_small['tmdbId'].notnull()]['tmdbId'].astype('int')"
   ]
  },
  {
   "cell_type": "code",
   "execution_count": 19,
   "id": "e5592942",
   "metadata": {},
   "outputs": [],
   "source": [
    "md = md.drop([19730, 29503, 35587])"
   ]
  },
  {
   "cell_type": "code",
   "execution_count": 20,
   "id": "ebd183b2",
   "metadata": {},
   "outputs": [],
   "source": [
    "md['id'] = md['id'].astype('int')"
   ]
  },
  {
   "cell_type": "code",
   "execution_count": 21,
   "id": "1e6ffb73",
   "metadata": {},
   "outputs": [
    {
     "data": {
      "text/plain": [
       "(9099, 25)"
      ]
     },
     "execution_count": 21,
     "metadata": {},
     "output_type": "execute_result"
    }
   ],
   "source": [
    "smd = md[md['id'].isin(links_small)]\n",
    "smd.shape"
   ]
  },
  {
   "cell_type": "markdown",
   "id": "86e9ca92",
   "metadata": {},
   "source": [
    "## Movie Description Based Recommender ##"
   ]
  },
  {
   "cell_type": "code",
   "execution_count": 22,
   "id": "9c70e689",
   "metadata": {},
   "outputs": [],
   "source": [
    "smd['tagline'] = smd['tagline'].fillna('')\n",
    "smd['description'] = smd['overview'] + smd['tagline']\n",
    "smd['description'] = smd['description'].fillna('')"
   ]
  },
  {
   "cell_type": "code",
   "execution_count": 23,
   "id": "d55b135a",
   "metadata": {},
   "outputs": [],
   "source": [
    "tf = TfidfVectorizer(analyzer='word',ngram_range=(1, 2),min_df=0, stop_words='english')\n",
    "tfidf_matrix = tf.fit_transform(smd['description'])"
   ]
  },
  {
   "cell_type": "code",
   "execution_count": 24,
   "id": "0d5c4186",
   "metadata": {},
   "outputs": [
    {
     "data": {
      "text/plain": [
       "(9099, 268124)"
      ]
     },
     "execution_count": 24,
     "metadata": {},
     "output_type": "execute_result"
    }
   ],
   "source": [
    "tfidf_matrix.shape"
   ]
  },
  {
   "cell_type": "markdown",
   "id": "a202fee0",
   "metadata": {},
   "source": [
    "We will now use the cosine similarity to find the simarilities between two movies quantitatively. "
   ]
  },
  {
   "cell_type": "code",
   "execution_count": 25,
   "id": "3dd1a052",
   "metadata": {},
   "outputs": [],
   "source": [
    "cosine_sim = linear_kernel(tfidf_matrix, tfidf_matrix)"
   ]
  },
  {
   "cell_type": "code",
   "execution_count": 26,
   "id": "aec20785",
   "metadata": {},
   "outputs": [
    {
     "data": {
      "text/plain": [
       "array([1.        , 0.00680476, 0.        , ..., 0.        , 0.00344913,\n",
       "       0.        ])"
      ]
     },
     "execution_count": 26,
     "metadata": {},
     "output_type": "execute_result"
    }
   ],
   "source": [
    "cosine_sim[0]"
   ]
  },
  {
   "cell_type": "markdown",
   "id": "7a7767f9",
   "metadata": {},
   "source": [
    "The next step is to return the most similar movies based on the cosine similarity score."
   ]
  },
  {
   "cell_type": "code",
   "execution_count": 27,
   "id": "9bed68cd",
   "metadata": {},
   "outputs": [],
   "source": [
    "smd = smd.reset_index()\n",
    "titles = smd['title']\n",
    "indices = pd.Series(smd.index, index=smd['title'])"
   ]
  },
  {
   "cell_type": "code",
   "execution_count": 28,
   "id": "f168d0f0",
   "metadata": {},
   "outputs": [],
   "source": [
    "def get_recommendations(title):\n",
    "    idx = indices[title]\n",
    "    sim_scores = list(enumerate(cosine_sim[idx]))\n",
    "    sim_scores = sorted(sim_scores, key=lambda x: x[1], reverse=True)\n",
    "    sim_scores = sim_scores[1:51]\n",
    "    movie_indices = [i[0] for i in sim_scores]\n",
    "    return titles.iloc[movie_indices]"
   ]
  },
  {
   "cell_type": "code",
   "execution_count": 29,
   "id": "61428ff1",
   "metadata": {},
   "outputs": [
    {
     "data": {
      "text/plain": [
       "6971                    The Rape of Europa\n",
       "8691                         Inherent Vice\n",
       "4540                                 Basic\n",
       "5741                       Titicut Follies\n",
       "578       Some Folks Call It a Sling Blade\n",
       "5182                     Soldier of Orange\n",
       "3929                          Carmen Jones\n",
       "7156                             Nuremberg\n",
       "2324                             Psycho II\n",
       "7823    Captain America: The First Avenger\n",
       "Name: title, dtype: object"
      ]
     },
     "execution_count": 29,
     "metadata": {},
     "output_type": "execute_result"
    }
   ],
   "source": [
    "get_recommendations('Shutter Island').head(10)"
   ]
  },
  {
   "cell_type": "code",
   "execution_count": 30,
   "id": "2e356684",
   "metadata": {},
   "outputs": [
    {
     "data": {
      "text/plain": [
       "7242     The File on Thelma Jordon\n",
       "5987    A Love Song for Bobby Long\n",
       "1135      Night Falls on Manhattan\n",
       "4489                         Q & A\n",
       "8680             The Young Savages\n",
       "7344           Law Abiding Citizen\n",
       "3537                  Criminal Law\n",
       "6667                      Fracture\n",
       "6560                         Bobby\n",
       "5425                   Pretty Baby\n",
       "Name: title, dtype: object"
      ]
     },
     "execution_count": 30,
     "metadata": {},
     "output_type": "execute_result"
    }
   ],
   "source": [
    "get_recommendations('JFK').head(10)"
   ]
  },
  {
   "cell_type": "code",
   "execution_count": 31,
   "id": "4e7488ae",
   "metadata": {},
   "outputs": [
    {
     "data": {
      "text/plain": [
       "7565                 Batman: Under the Red Hood\n",
       "7931                      The Dark Knight Rises\n",
       "8227    Batman: The Dark Knight Returns, Part 2\n",
       "2579               Batman: Mask of the Phantasm\n",
       "6900                            The Dark Knight\n",
       "132                              Batman Forever\n",
       "8165    Batman: The Dark Knight Returns, Part 1\n",
       "912                          The Wrong Trousers\n",
       "6144                              Batman Begins\n",
       "7901                           Batman: Year One\n",
       "Name: title, dtype: object"
      ]
     },
     "execution_count": 31,
     "metadata": {},
     "output_type": "execute_result"
    }
   ],
   "source": [
    "get_recommendations('Batman Returns').head(10)"
   ]
  },
  {
   "cell_type": "markdown",
   "id": "c87d3f90",
   "metadata": {},
   "source": [
    "The recommendation system only identifies the keywords and hence recommends all the batman movies. But this is not what we want. We want a recommendation system that that gives personalized recommendations as well as diversify the movies across all genres. For this, we will take into consideration the genre, cast and crew."
   ]
  },
  {
   "cell_type": "markdown",
   "id": "9f1aeddb",
   "metadata": {},
   "source": [
    "## Movie Data Based Recommendation System ##"
   ]
  },
  {
   "cell_type": "code",
   "execution_count": 32,
   "id": "3eba2e00",
   "metadata": {},
   "outputs": [],
   "source": [
    "credits = pd.read_csv(r'C:\\Users\\saumy\\Downloads\\Dataset\\keywords.csv')\n",
    "keywords = pd.read_csv(r'C:\\Users\\saumy\\Downloads\\Dataset\\credits.csv')"
   ]
  },
  {
   "cell_type": "code",
   "execution_count": 33,
   "id": "17878943",
   "metadata": {},
   "outputs": [],
   "source": [
    "keywords['id'] = keywords['id'].astype('int')\n",
    "credits['id'] = credits['id'].astype('int')\n",
    "md['id'] = md['id'].astype('int')"
   ]
  },
  {
   "cell_type": "code",
   "execution_count": 34,
   "id": "401ede6f",
   "metadata": {},
   "outputs": [
    {
     "data": {
      "text/plain": [
       "(45463, 25)"
      ]
     },
     "execution_count": 34,
     "metadata": {},
     "output_type": "execute_result"
    }
   ],
   "source": [
    "md.shape"
   ]
  },
  {
   "cell_type": "markdown",
   "id": "ea10ea5d",
   "metadata": {},
   "source": [
    "Merging the cast, crew, genres and credits from the keywords and credits files. "
   ]
  },
  {
   "cell_type": "code",
   "execution_count": 35,
   "id": "fd1b06d3",
   "metadata": {},
   "outputs": [
    {
     "data": {
      "text/plain": [
       "(9219, 28)"
      ]
     },
     "execution_count": 35,
     "metadata": {},
     "output_type": "execute_result"
    }
   ],
   "source": [
    "md = md.merge(credits, on='id')\n",
    "md = md.merge(keywords, on='id')\n",
    "smd = md[md['id'].isin(links_small)]\n",
    "smd.shape"
   ]
  },
  {
   "cell_type": "markdown",
   "id": "3ac89bd6",
   "metadata": {},
   "source": [
    "We will consider only the director from the crew and the top 5 actors that appear in the credit list. "
   ]
  },
  {
   "cell_type": "code",
   "execution_count": 36,
   "id": "60de0390",
   "metadata": {},
   "outputs": [],
   "source": [
    "smd['cast'] = smd['cast'].apply(literal_eval)\n",
    "smd['crew'] = smd['crew'].apply(literal_eval)\n",
    "smd['keywords'] = smd['keywords'].apply(literal_eval)\n",
    "smd['cast_size'] = smd['cast'].apply(lambda x: len(x))\n",
    "smd['crew_size'] = smd['crew'].apply(lambda x: len(x))"
   ]
  },
  {
   "cell_type": "code",
   "execution_count": 37,
   "id": "75a53023",
   "metadata": {},
   "outputs": [],
   "source": [
    "def get_director(x):\n",
    "    for i in x:\n",
    "        if i['job'] == 'Director':\n",
    "            return i['name']\n",
    "    return np.nan"
   ]
  },
  {
   "cell_type": "code",
   "execution_count": 38,
   "id": "87330129",
   "metadata": {},
   "outputs": [],
   "source": [
    "smd['director'] = smd['crew'].apply(get_director)"
   ]
  },
  {
   "cell_type": "code",
   "execution_count": 39,
   "id": "09d3fbcc",
   "metadata": {},
   "outputs": [],
   "source": [
    "smd['cast'] = smd['cast'].apply(lambda x: [i['name'] for i in x] if isinstance(x, list) else [])\n",
    "smd['cast'] = smd['cast'].apply(lambda x: x[:5] if len(x) >=3 else x)"
   ]
  },
  {
   "cell_type": "code",
   "execution_count": 40,
   "id": "e939281e",
   "metadata": {},
   "outputs": [],
   "source": [
    "smd['keywords'] = smd['keywords'].apply(lambda x: [i['name'] for i in x] if isinstance(x, list) else [])"
   ]
  },
  {
   "cell_type": "markdown",
   "id": "c14ede84",
   "metadata": {},
   "source": [
    "We will now use the Count Vectorizer to build our count matrix and calculate the cosine similarities and return the similar movies based on the similarity score. "
   ]
  },
  {
   "cell_type": "code",
   "execution_count": 41,
   "id": "d040e7c4",
   "metadata": {},
   "outputs": [],
   "source": [
    "smd['cast'] = smd['cast'].apply(lambda x: [str.lower(i.replace(\" \", \"\")) for i in x])"
   ]
  },
  {
   "cell_type": "code",
   "execution_count": 42,
   "id": "9f94cb58",
   "metadata": {},
   "outputs": [],
   "source": [
    "smd['director'] = smd['director'].astype('str').apply(lambda x: str.lower(x.replace(\" \", \"\")))\n",
    "smd['director'] = smd['director'].apply(lambda x: [x,x])"
   ]
  },
  {
   "cell_type": "code",
   "execution_count": 43,
   "id": "05a2302e",
   "metadata": {},
   "outputs": [
    {
     "data": {
      "text/plain": [
       "independent film        610\n",
       "woman director          550\n",
       "murder                  399\n",
       "duringcreditsstinger    327\n",
       "based on novel          318\n",
       "Name: keyword, dtype: int64"
      ]
     },
     "execution_count": 43,
     "metadata": {},
     "output_type": "execute_result"
    }
   ],
   "source": [
    "s = smd.apply(lambda x: pd.Series(x['keywords']),axis=1).stack().reset_index(level=1, drop=True)\n",
    "s.name = 'keyword'\n",
    "s = s.value_counts()\n",
    "s[:5]"
   ]
  },
  {
   "cell_type": "code",
   "execution_count": 44,
   "id": "ef150ee0",
   "metadata": {},
   "outputs": [
    {
     "data": {
      "text/plain": [
       "'ant'"
      ]
     },
     "execution_count": 44,
     "metadata": {},
     "output_type": "execute_result"
    }
   ],
   "source": [
    "s = s[s > 1]\n",
    "stemmer = SnowballStemmer('english')\n",
    "stemmer.stem('ants')"
   ]
  },
  {
   "cell_type": "code",
   "execution_count": 45,
   "id": "d34dcf96",
   "metadata": {},
   "outputs": [],
   "source": [
    "def filter_keywords(x):\n",
    "    words = []\n",
    "    for i in x:\n",
    "        if i in s:\n",
    "            words.append(i)\n",
    "    return words"
   ]
  },
  {
   "cell_type": "code",
   "execution_count": 46,
   "id": "d91a057f",
   "metadata": {},
   "outputs": [],
   "source": [
    "smd['keywords'] = smd['keywords'].apply(filter_keywords)\n",
    "smd['keywords'] = smd['keywords'].apply(lambda x: [stemmer.stem(i) for i in x])\n",
    "smd['keywords'] = smd['keywords'].apply(lambda x: [str.lower(i.replace(\" \", \"\")) for i in x])"
   ]
  },
  {
   "cell_type": "code",
   "execution_count": 47,
   "id": "6ffa1fb6",
   "metadata": {},
   "outputs": [],
   "source": [
    "smd['soup'] = smd['keywords'] + smd['cast'] + smd['director'] + smd['genres']\n",
    "smd['soup'] = smd['soup'].apply(lambda x: ' '.join(x))"
   ]
  },
  {
   "cell_type": "code",
   "execution_count": 48,
   "id": "0ebe468f",
   "metadata": {},
   "outputs": [],
   "source": [
    "count = CountVectorizer(analyzer='word',ngram_range=(1, 2),min_df=0, stop_words='english')\n",
    "count_matrix = count.fit_transform(smd['soup'])"
   ]
  },
  {
   "cell_type": "code",
   "execution_count": 49,
   "id": "85b3f28b",
   "metadata": {},
   "outputs": [],
   "source": [
    "cosine_sim = cosine_similarity(count_matrix, count_matrix)"
   ]
  },
  {
   "cell_type": "code",
   "execution_count": 50,
   "id": "91e453ac",
   "metadata": {},
   "outputs": [],
   "source": [
    "smd = smd.reset_index()\n",
    "titles = smd['title']\n",
    "indices = pd.Series(smd.index, index=smd['title'])"
   ]
  },
  {
   "cell_type": "code",
   "execution_count": 51,
   "id": "c21d9536",
   "metadata": {},
   "outputs": [
    {
     "data": {
      "text/plain": [
       "7934                   A Letter to Elia\n",
       "6599                       The Departed\n",
       "5625    Alice Doesn't Live Here Anymore\n",
       "5627     Who's That Knocking at My Door\n",
       "6047                        The Aviator\n",
       "4072                      Boxcar Bertha\n",
       "1997                 The Color of Money\n",
       "15                               Casino\n",
       "5376                       Mean Streets\n",
       "5848                 New York, New York\n",
       "Name: title, dtype: object"
      ]
     },
     "execution_count": 51,
     "metadata": {},
     "output_type": "execute_result"
    }
   ],
   "source": [
    "get_recommendations('Shutter Island').head(10)"
   ]
  },
  {
   "cell_type": "code",
   "execution_count": 52,
   "id": "3d008134",
   "metadata": {},
   "outputs": [
    {
     "data": {
      "text/plain": [
       "13                                Nixon\n",
       "413                      Heaven & Earth\n",
       "4340                           The Hand\n",
       "7125                                 W.\n",
       "7698    Wall Street: Money Never Sleeps\n",
       "5512                         Comandante\n",
       "2566                   Any Given Sunday\n",
       "6539                 World Trade Center\n",
       "3571                       Criminal Law\n",
       "3248                      Thirteen Days\n",
       "Name: title, dtype: object"
      ]
     },
     "execution_count": 52,
     "metadata": {},
     "output_type": "execute_result"
    }
   ],
   "source": [
    "get_recommendations('JFK').head(10)"
   ]
  },
  {
   "cell_type": "code",
   "execution_count": 53,
   "id": "ed630aac",
   "metadata": {},
   "outputs": [
    {
     "data": {
      "text/plain": [
       "524                                 Batman\n",
       "2492                         Sleepy Hollow\n",
       "1260                        Batman & Robin\n",
       "6981                       The Dark Knight\n",
       "9024    Batman v Superman: Dawn of Justice\n",
       "6218                         Batman Begins\n",
       "1745                           Beetlejuice\n",
       "6174                               Vincent\n",
       "1146                         Mars Attacks!\n",
       "8123                          Dark Shadows\n",
       "Name: title, dtype: object"
      ]
     },
     "execution_count": 53,
     "metadata": {},
     "output_type": "execute_result"
    }
   ],
   "source": [
    "get_recommendations('Batman Returns').head(10)"
   ]
  },
  {
   "cell_type": "markdown",
   "id": "10de2f13",
   "metadata": {},
   "source": [
    "We have not included the ratings and reviews previously. Therefore, we will also add ratings as another parameter besides the cast, crew and genre. We will take top 25 movies and calculate the vote of the 60th percentile movie. Then we will calculate the weighted rating of each movie using IMDB's formula. "
   ]
  },
  {
   "cell_type": "code",
   "execution_count": 54,
   "id": "67ca2d3c",
   "metadata": {},
   "outputs": [],
   "source": [
    "def improved_recommendations(title):\n",
    "    idx = indices[title]\n",
    "    sim_scores = list(enumerate(cosine_sim[idx]))\n",
    "    sim_scores = sorted(sim_scores, key=lambda x: x[1], reverse=True)\n",
    "    sim_scores = sim_scores[1:26]\n",
    "    movie_indices = [i[0] for i in sim_scores]\n",
    "    \n",
    "    movies = smd.iloc[movie_indices][['title', 'vote_count', 'vote_average', 'year']]\n",
    "    vote_counts = movies[movies['vote_count'].notnull()]['vote_count'].astype('int')\n",
    "    vote_averages = movies[movies['vote_average'].notnull()]['vote_average'].astype('int')\n",
    "    C = vote_averages.mean()\n",
    "    m = vote_counts.quantile(0.60)\n",
    "    qualified = movies[(movies['vote_count'] >= m) & (movies['vote_count'].notnull()) & (movies['vote_average'].notnull())]\n",
    "    qualified['vote_count'] = qualified['vote_count'].astype('int')\n",
    "    qualified['vote_average'] = qualified['vote_average'].astype('int')\n",
    "    qualified['wr'] = qualified.apply(weighted_rating, axis=1)\n",
    "    qualified = qualified.sort_values('wr', ascending=False).head(10)\n",
    "    #return qualified\n",
    "    lll = qualified['title'].tolist()\n",
    "    return lll"
   ]
  },
  {
   "cell_type": "code",
   "execution_count": 55,
   "id": "877b58f6",
   "metadata": {},
   "outputs": [
    {
     "data": {
      "text/plain": [
       "['GoodFellas',\n",
       " 'The Wolf of Wall Street',\n",
       " 'The Departed',\n",
       " 'Gangs of New York',\n",
       " 'The Aviator',\n",
       " 'Casino',\n",
       " 'Raging Bull',\n",
       " 'Mean Streets',\n",
       " 'The Color of Money',\n",
       " 'Murder on the Orient Express']"
      ]
     },
     "execution_count": 55,
     "metadata": {},
     "output_type": "execute_result"
    }
   ],
   "source": [
    "improved_recommendations('Shutter Island')"
   ]
  },
  {
   "cell_type": "code",
   "execution_count": 56,
   "id": "a0f4878c",
   "metadata": {},
   "outputs": [
    {
     "data": {
      "text/plain": [
       "['Platoon',\n",
       " 'Wall Street',\n",
       " 'Natural Born Killers',\n",
       " 'Savages',\n",
       " 'Any Given Sunday',\n",
       " 'Born on the Fourth of July',\n",
       " 'The Doors',\n",
       " 'World Trade Center',\n",
       " 'Wall Street: Money Never Sleeps',\n",
       " 'Alexander']"
      ]
     },
     "execution_count": 56,
     "metadata": {},
     "output_type": "execute_result"
    }
   ],
   "source": [
    "improved_recommendations('JFK')"
   ]
  },
  {
   "cell_type": "code",
   "execution_count": 57,
   "id": "ac9b85d4",
   "metadata": {},
   "outputs": [
    {
     "data": {
      "text/plain": [
       "['The Dark Knight',\n",
       " 'The Dark Knight Rises',\n",
       " 'Batman Begins',\n",
       " 'Edward Scissorhands',\n",
       " 'Batman',\n",
       " 'Alice in Wonderland',\n",
       " 'Charlie and the Chocolate Factory',\n",
       " 'Dark Shadows',\n",
       " 'Batman v Superman: Dawn of Justice',\n",
       " 'Suicide Squad']"
      ]
     },
     "execution_count": 57,
     "metadata": {},
     "output_type": "execute_result"
    }
   ],
   "source": [
    "improved_recommendations('Batman Returns')"
   ]
  },
  {
   "cell_type": "markdown",
   "id": "ab812b49",
   "metadata": {},
   "source": [
    "Hence the improved system removes the movies that don't have a good rating. However, it does not provide recommendations across genres. It is not personalised yet since it recommends same movies to everyone and fails to take into account the users' taste. Therefore, we will use **Collaborative Filtering** to improve personalised recommendations."
   ]
  },
  {
   "cell_type": "markdown",
   "id": "a8a25ef3",
   "metadata": {},
   "source": [
    "# Collaborative Filtering #"
   ]
  },
  {
   "cell_type": "markdown",
   "id": "28eb7f34",
   "metadata": {},
   "source": [
    "We will use the **Surprise** library to implement the **Singular Value Decomposition(SVD)** to minimise RMSE and MAE"
   ]
  },
  {
   "cell_type": "code",
   "execution_count": 58,
   "id": "a9ee72f8",
   "metadata": {},
   "outputs": [],
   "source": [
    "reader = Reader()"
   ]
  },
  {
   "cell_type": "code",
   "execution_count": 59,
   "id": "e953f999",
   "metadata": {},
   "outputs": [
    {
     "data": {
      "text/html": [
       "<div>\n",
       "<style scoped>\n",
       "    .dataframe tbody tr th:only-of-type {\n",
       "        vertical-align: middle;\n",
       "    }\n",
       "\n",
       "    .dataframe tbody tr th {\n",
       "        vertical-align: top;\n",
       "    }\n",
       "\n",
       "    .dataframe thead th {\n",
       "        text-align: right;\n",
       "    }\n",
       "</style>\n",
       "<table border=\"1\" class=\"dataframe\">\n",
       "  <thead>\n",
       "    <tr style=\"text-align: right;\">\n",
       "      <th></th>\n",
       "      <th>userId</th>\n",
       "      <th>movieId</th>\n",
       "      <th>rating</th>\n",
       "      <th>timestamp</th>\n",
       "    </tr>\n",
       "  </thead>\n",
       "  <tbody>\n",
       "    <tr>\n",
       "      <th>0</th>\n",
       "      <td>1</td>\n",
       "      <td>31</td>\n",
       "      <td>2.5</td>\n",
       "      <td>1260759144</td>\n",
       "    </tr>\n",
       "    <tr>\n",
       "      <th>1</th>\n",
       "      <td>1</td>\n",
       "      <td>1029</td>\n",
       "      <td>3.0</td>\n",
       "      <td>1260759179</td>\n",
       "    </tr>\n",
       "    <tr>\n",
       "      <th>2</th>\n",
       "      <td>1</td>\n",
       "      <td>1061</td>\n",
       "      <td>3.0</td>\n",
       "      <td>1260759182</td>\n",
       "    </tr>\n",
       "    <tr>\n",
       "      <th>3</th>\n",
       "      <td>1</td>\n",
       "      <td>1129</td>\n",
       "      <td>2.0</td>\n",
       "      <td>1260759185</td>\n",
       "    </tr>\n",
       "    <tr>\n",
       "      <th>4</th>\n",
       "      <td>1</td>\n",
       "      <td>1172</td>\n",
       "      <td>4.0</td>\n",
       "      <td>1260759205</td>\n",
       "    </tr>\n",
       "  </tbody>\n",
       "</table>\n",
       "</div>"
      ],
      "text/plain": [
       "   userId  movieId  rating   timestamp\n",
       "0       1       31     2.5  1260759144\n",
       "1       1     1029     3.0  1260759179\n",
       "2       1     1061     3.0  1260759182\n",
       "3       1     1129     2.0  1260759185\n",
       "4       1     1172     4.0  1260759205"
      ]
     },
     "execution_count": 59,
     "metadata": {},
     "output_type": "execute_result"
    }
   ],
   "source": [
    "ratings = pd.read_csv(r'C:\\Users\\saumy\\Downloads\\Dataset\\ratings_small.csv')\n",
    "ratings.head()"
   ]
  },
  {
   "cell_type": "code",
   "execution_count": 60,
   "id": "fdb2ed03",
   "metadata": {},
   "outputs": [
    {
     "name": "stdout",
     "output_type": "stream",
     "text": [
      "Evaluating RMSE, MAE of algorithm SVD on 10 split(s).\n",
      "\n",
      "                  Fold 1  Fold 2  Fold 3  Fold 4  Fold 5  Fold 6  Fold 7  Fold 8  Fold 9  Fold 10 Mean    Std     \n",
      "RMSE (testset)    0.8927  0.8719  0.8917  0.8825  0.8898  0.9033  0.8805  0.8995  0.8994  0.9037  0.8915  0.0100  \n",
      "MAE (testset)     0.6877  0.6723  0.6873  0.6768  0.6851  0.6972  0.6806  0.6881  0.6940  0.6945  0.6864  0.0076  \n",
      "Fit time          1.24    0.91    0.91    0.90    0.91    0.90    0.92    0.90    0.97    1.01    0.96    0.10    \n",
      "Test time         0.05    0.04    0.04    0.18    0.04    0.04    0.04    0.04    0.15    0.04    0.07    0.05    \n"
     ]
    },
    {
     "data": {
      "text/plain": [
       "{'test_rmse': array([0.89268795, 0.87189994, 0.89169526, 0.88250463, 0.88983363,\n",
       "        0.90330385, 0.88053904, 0.89947026, 0.89940677, 0.90371175]),\n",
       " 'test_mae': array([0.68765508, 0.67226457, 0.68727517, 0.67682824, 0.68512618,\n",
       "        0.69722989, 0.68058215, 0.68810384, 0.6939762 , 0.69447214]),\n",
       " 'fit_time': (1.2356054782867432,\n",
       "  0.9072010517120361,\n",
       "  0.905097484588623,\n",
       "  0.8950996398925781,\n",
       "  0.9111056327819824,\n",
       "  0.9000613689422607,\n",
       "  0.9231240749359131,\n",
       "  0.8982741832733154,\n",
       "  0.9736611843109131,\n",
       "  1.0132179260253906),\n",
       " 'test_time': (0.04801011085510254,\n",
       "  0.0410001277923584,\n",
       "  0.040029048919677734,\n",
       "  0.18237686157226562,\n",
       "  0.04055023193359375,\n",
       "  0.039994239807128906,\n",
       "  0.03953838348388672,\n",
       "  0.04199934005737305,\n",
       "  0.1540844440460205,\n",
       "  0.0410153865814209)}"
      ]
     },
     "execution_count": 60,
     "metadata": {},
     "output_type": "execute_result"
    }
   ],
   "source": [
    "data = Dataset.load_from_df(ratings[['userId', 'movieId', 'rating']], reader)\n",
    "svd = SVD()\n",
    "cross_validate(svd, data, measures=['RMSE', 'MAE'], cv=10, verbose=True)"
   ]
  },
  {
   "cell_type": "markdown",
   "id": "4f0ee11e",
   "metadata": {},
   "source": [
    "Hence, we get  \n",
    "            **Root Mean Squared Error(RMSE) = 0.8904**  \n",
    "            **Mean Absolute Error(MAE) = 0.6845**"
   ]
  },
  {
   "cell_type": "markdown",
   "id": "0332538b",
   "metadata": {},
   "source": [
    "Now, training our dataset"
   ]
  },
  {
   "cell_type": "code",
   "execution_count": 61,
   "id": "cdc70b3c",
   "metadata": {},
   "outputs": [
    {
     "data": {
      "text/plain": [
       "<surprise.prediction_algorithms.matrix_factorization.SVD at 0x12b24ccd4d0>"
      ]
     },
     "execution_count": 61,
     "metadata": {},
     "output_type": "execute_result"
    }
   ],
   "source": [
    "trainset = data.build_full_trainset()\n",
    "svd.fit(trainset)"
   ]
  },
  {
   "cell_type": "code",
   "execution_count": 62,
   "id": "0eca5ca8",
   "metadata": {},
   "outputs": [
    {
     "data": {
      "text/html": [
       "<div>\n",
       "<style scoped>\n",
       "    .dataframe tbody tr th:only-of-type {\n",
       "        vertical-align: middle;\n",
       "    }\n",
       "\n",
       "    .dataframe tbody tr th {\n",
       "        vertical-align: top;\n",
       "    }\n",
       "\n",
       "    .dataframe thead th {\n",
       "        text-align: right;\n",
       "    }\n",
       "</style>\n",
       "<table border=\"1\" class=\"dataframe\">\n",
       "  <thead>\n",
       "    <tr style=\"text-align: right;\">\n",
       "      <th></th>\n",
       "      <th>userId</th>\n",
       "      <th>movieId</th>\n",
       "      <th>rating</th>\n",
       "      <th>timestamp</th>\n",
       "    </tr>\n",
       "  </thead>\n",
       "  <tbody>\n",
       "    <tr>\n",
       "      <th>0</th>\n",
       "      <td>1</td>\n",
       "      <td>31</td>\n",
       "      <td>2.5</td>\n",
       "      <td>1260759144</td>\n",
       "    </tr>\n",
       "    <tr>\n",
       "      <th>1</th>\n",
       "      <td>1</td>\n",
       "      <td>1029</td>\n",
       "      <td>3.0</td>\n",
       "      <td>1260759179</td>\n",
       "    </tr>\n",
       "    <tr>\n",
       "      <th>2</th>\n",
       "      <td>1</td>\n",
       "      <td>1061</td>\n",
       "      <td>3.0</td>\n",
       "      <td>1260759182</td>\n",
       "    </tr>\n",
       "    <tr>\n",
       "      <th>3</th>\n",
       "      <td>1</td>\n",
       "      <td>1129</td>\n",
       "      <td>2.0</td>\n",
       "      <td>1260759185</td>\n",
       "    </tr>\n",
       "    <tr>\n",
       "      <th>4</th>\n",
       "      <td>1</td>\n",
       "      <td>1172</td>\n",
       "      <td>4.0</td>\n",
       "      <td>1260759205</td>\n",
       "    </tr>\n",
       "    <tr>\n",
       "      <th>5</th>\n",
       "      <td>1</td>\n",
       "      <td>1263</td>\n",
       "      <td>2.0</td>\n",
       "      <td>1260759151</td>\n",
       "    </tr>\n",
       "    <tr>\n",
       "      <th>6</th>\n",
       "      <td>1</td>\n",
       "      <td>1287</td>\n",
       "      <td>2.0</td>\n",
       "      <td>1260759187</td>\n",
       "    </tr>\n",
       "    <tr>\n",
       "      <th>7</th>\n",
       "      <td>1</td>\n",
       "      <td>1293</td>\n",
       "      <td>2.0</td>\n",
       "      <td>1260759148</td>\n",
       "    </tr>\n",
       "    <tr>\n",
       "      <th>8</th>\n",
       "      <td>1</td>\n",
       "      <td>1339</td>\n",
       "      <td>3.5</td>\n",
       "      <td>1260759125</td>\n",
       "    </tr>\n",
       "    <tr>\n",
       "      <th>9</th>\n",
       "      <td>1</td>\n",
       "      <td>1343</td>\n",
       "      <td>2.0</td>\n",
       "      <td>1260759131</td>\n",
       "    </tr>\n",
       "    <tr>\n",
       "      <th>10</th>\n",
       "      <td>1</td>\n",
       "      <td>1371</td>\n",
       "      <td>2.5</td>\n",
       "      <td>1260759135</td>\n",
       "    </tr>\n",
       "    <tr>\n",
       "      <th>11</th>\n",
       "      <td>1</td>\n",
       "      <td>1405</td>\n",
       "      <td>1.0</td>\n",
       "      <td>1260759203</td>\n",
       "    </tr>\n",
       "    <tr>\n",
       "      <th>12</th>\n",
       "      <td>1</td>\n",
       "      <td>1953</td>\n",
       "      <td>4.0</td>\n",
       "      <td>1260759191</td>\n",
       "    </tr>\n",
       "    <tr>\n",
       "      <th>13</th>\n",
       "      <td>1</td>\n",
       "      <td>2105</td>\n",
       "      <td>4.0</td>\n",
       "      <td>1260759139</td>\n",
       "    </tr>\n",
       "    <tr>\n",
       "      <th>14</th>\n",
       "      <td>1</td>\n",
       "      <td>2150</td>\n",
       "      <td>3.0</td>\n",
       "      <td>1260759194</td>\n",
       "    </tr>\n",
       "    <tr>\n",
       "      <th>15</th>\n",
       "      <td>1</td>\n",
       "      <td>2193</td>\n",
       "      <td>2.0</td>\n",
       "      <td>1260759198</td>\n",
       "    </tr>\n",
       "    <tr>\n",
       "      <th>16</th>\n",
       "      <td>1</td>\n",
       "      <td>2294</td>\n",
       "      <td>2.0</td>\n",
       "      <td>1260759108</td>\n",
       "    </tr>\n",
       "    <tr>\n",
       "      <th>17</th>\n",
       "      <td>1</td>\n",
       "      <td>2455</td>\n",
       "      <td>2.5</td>\n",
       "      <td>1260759113</td>\n",
       "    </tr>\n",
       "    <tr>\n",
       "      <th>18</th>\n",
       "      <td>1</td>\n",
       "      <td>2968</td>\n",
       "      <td>1.0</td>\n",
       "      <td>1260759200</td>\n",
       "    </tr>\n",
       "    <tr>\n",
       "      <th>19</th>\n",
       "      <td>1</td>\n",
       "      <td>3671</td>\n",
       "      <td>3.0</td>\n",
       "      <td>1260759117</td>\n",
       "    </tr>\n",
       "  </tbody>\n",
       "</table>\n",
       "</div>"
      ],
      "text/plain": [
       "    userId  movieId  rating   timestamp\n",
       "0        1       31     2.5  1260759144\n",
       "1        1     1029     3.0  1260759179\n",
       "2        1     1061     3.0  1260759182\n",
       "3        1     1129     2.0  1260759185\n",
       "4        1     1172     4.0  1260759205\n",
       "5        1     1263     2.0  1260759151\n",
       "6        1     1287     2.0  1260759187\n",
       "7        1     1293     2.0  1260759148\n",
       "8        1     1339     3.5  1260759125\n",
       "9        1     1343     2.0  1260759131\n",
       "10       1     1371     2.5  1260759135\n",
       "11       1     1405     1.0  1260759203\n",
       "12       1     1953     4.0  1260759191\n",
       "13       1     2105     4.0  1260759139\n",
       "14       1     2150     3.0  1260759194\n",
       "15       1     2193     2.0  1260759198\n",
       "16       1     2294     2.0  1260759108\n",
       "17       1     2455     2.5  1260759113\n",
       "18       1     2968     1.0  1260759200\n",
       "19       1     3671     3.0  1260759117"
      ]
     },
     "execution_count": 62,
     "metadata": {},
     "output_type": "execute_result"
    }
   ],
   "source": [
    "ratings[ratings['userId'] == 1]"
   ]
  },
  {
   "cell_type": "code",
   "execution_count": 63,
   "id": "71456e62",
   "metadata": {},
   "outputs": [
    {
     "data": {
      "text/plain": [
       "Prediction(uid=1, iid=451, r_ui=3, est=2.480160954461496, details={'was_impossible': False})"
      ]
     },
     "execution_count": 63,
     "metadata": {},
     "output_type": "execute_result"
    }
   ],
   "source": [
    "svd.predict(1, 451, 3)\n"
   ]
  },
  {
   "cell_type": "markdown",
   "id": "8f6864eb",
   "metadata": {},
   "source": [
    "For a movie with ID = 451, we get an estimation of 2.655. Now we will combine all the recommendation systems above and build a **Personalised Hybrid Recommendation System**"
   ]
  },
  {
   "cell_type": "markdown",
   "id": "42488b38",
   "metadata": {},
   "source": [
    "# Hybrid Recommendation System #"
   ]
  },
  {
   "cell_type": "markdown",
   "id": "00c6e73f",
   "metadata": {},
   "source": [
    "The recommendation system will take the userID and movie name as input and will yield an output predicting the ratings given by that user for that movie. "
   ]
  },
  {
   "cell_type": "code",
   "execution_count": 64,
   "id": "11ee8658",
   "metadata": {},
   "outputs": [],
   "source": [
    "def convert_int(x):\n",
    "    try:\n",
    "        return int(x)\n",
    "    except:\n",
    "        return np.nan"
   ]
  },
  {
   "cell_type": "code",
   "execution_count": 65,
   "id": "365f982f",
   "metadata": {},
   "outputs": [],
   "source": [
    "id_map = pd.read_csv(r'C:\\Users\\saumy\\Downloads\\Dataset\\links_small.csv')[['movieId', 'tmdbId']]\n",
    "id_map['tmdbId'] = id_map['tmdbId'].apply(convert_int)\n",
    "id_map.columns = ['movieId', 'id']\n",
    "id_map = id_map.merge(smd[['title', 'id']], on='id').set_index('title')"
   ]
  },
  {
   "cell_type": "code",
   "execution_count": 66,
   "id": "22a052ad",
   "metadata": {},
   "outputs": [],
   "source": [
    "indices_map = id_map.set_index('id')"
   ]
  },
  {
   "cell_type": "code",
   "execution_count": 67,
   "id": "d08724e4",
   "metadata": {},
   "outputs": [],
   "source": [
    "def hybrid(userId, title):\n",
    "    idx = indices[title]\n",
    "    tmdbId = id_map.loc[title]['id']\n",
    "    movie_id = id_map.loc[title]['movieId']\n",
    "    \n",
    "    sim_scores = list(enumerate(cosine_sim[int(idx)]))\n",
    "    sim_scores = sorted(sim_scores, key=lambda x: x[1], reverse=True)\n",
    "    sim_scores = sim_scores[1:26]\n",
    "    movie_indices = [i[0] for i in sim_scores]\n",
    "    \n",
    "    movies = smd.iloc[movie_indices][['title', 'vote_count', 'vote_average', 'year', 'id']]\n",
    "    movies['est'] = movies['id'].apply(lambda x: svd.predict(userId, indices_map.loc[x]['movieId']).est)\n",
    "    movies = movies.sort_values('est', ascending=False).head(10)\n",
    "    #return movies.head(10)\n",
    "    lll = movies['title'].tolist()\n",
    "    return lll"
   ]
  },
  {
   "cell_type": "code",
   "execution_count": 68,
   "id": "b207d6f6",
   "metadata": {},
   "outputs": [
    {
     "data": {
      "text/plain": [
       "['Raging Bull',\n",
       " 'GoodFellas',\n",
       " 'The Departed',\n",
       " 'The Wolf of Wall Street',\n",
       " 'Casino',\n",
       " 'Kundun',\n",
       " \"Alice Doesn't Live Here Anymore\",\n",
       " 'Confessions',\n",
       " 'Silent Fall',\n",
       " 'The Color of Money']"
      ]
     },
     "execution_count": 68,
     "metadata": {},
     "output_type": "execute_result"
    }
   ],
   "source": [
    "hybrid(1, 'Shutter Island')"
   ]
  },
  {
   "cell_type": "code",
   "execution_count": 69,
   "id": "9b7b4d0e",
   "metadata": {},
   "outputs": [
    {
     "data": {
      "text/plain": [
       "['Death and the Maiden',\n",
       " 'The Departed',\n",
       " 'No Direction Home: Bob Dylan',\n",
       " 'Casino',\n",
       " 'Raging Bull',\n",
       " 'GoodFellas',\n",
       " 'The Aviator',\n",
       " 'Murder on the Orient Express',\n",
       " 'A Personal Journey with Martin Scorsese Through American Movies',\n",
       " 'The Wolf of Wall Street']"
      ]
     },
     "execution_count": 69,
     "metadata": {},
     "output_type": "execute_result"
    }
   ],
   "source": [
    "hybrid(500, 'Shutter Island')"
   ]
  },
  {
   "cell_type": "code",
   "execution_count": 70,
   "id": "abf27161",
   "metadata": {},
   "outputs": [
    {
     "data": {
      "text/plain": [
       "['Raging Bull',\n",
       " 'The Departed',\n",
       " 'Death and the Maiden',\n",
       " 'The Age of Innocence',\n",
       " 'The Aviator',\n",
       " 'The Wolf of Wall Street',\n",
       " 'Murder on the Orient Express',\n",
       " 'Kundun',\n",
       " 'Gangs of New York',\n",
       " 'GoodFellas']"
      ]
     },
     "execution_count": 70,
     "metadata": {},
     "output_type": "execute_result"
    }
   ],
   "source": [
    "hybrid(133, 'Shutter Island')"
   ]
  },
  {
   "cell_type": "markdown",
   "id": "9e220784",
   "metadata": {},
   "source": [
    "Thus we get a personalised recommendations which are different for different users and give much more accurate suggestions. "
   ]
  },
  {
   "cell_type": "code",
   "execution_count": 71,
   "id": "468975ff",
   "metadata": {},
   "outputs": [
    {
     "data": {
      "text/plain": [
       "['Raging Bull',\n",
       " 'GoodFellas',\n",
       " 'The Departed',\n",
       " 'The Wolf of Wall Street',\n",
       " 'Taxi Driver',\n",
       " 'Once Upon a Time in America',\n",
       " 'Shutter Island',\n",
       " 'Kundun',\n",
       " 'The King of Comedy',\n",
       " \"Alice Doesn't Live Here Anymore\"]"
      ]
     },
     "execution_count": 71,
     "metadata": {},
     "output_type": "execute_result"
    }
   ],
   "source": [
    "hybrid(1, 'Casino')"
   ]
  },
  {
   "cell_type": "markdown",
   "id": "86b5dca9",
   "metadata": {},
   "source": [
    "# Creating a GUI Using Tkinter #"
   ]
  },
  {
   "cell_type": "code",
   "execution_count": 76,
   "id": "664f205d",
   "metadata": {},
   "outputs": [],
   "source": [
    "l = [None for i in range(10)]\n",
    "def rmovies():\n",
    "    event1 = menu.get()\n",
    "    event2 = e3_var.get()\n",
    "    event3 = e1_var.get()\n",
    "    event4 = e2_var.get()\n",
    "    \n",
    "    if event2 == \"Enter Movie Name\" and event3 == 0:\n",
    "        qualify = build_chart(event1)\n",
    "        for i in range(10):\n",
    "            l[i] = Label(root ,  text = qualify[i], font=(\"TTCommons-Italic\",14),bg=\"#2D283E\", fg =\"#802BB1\",wraplength=300)\n",
    "            l[i].grid(row = 2+i, column = 6, pady = 5)\n",
    "    elif event3 == 0 and event1 == \"Select Genre\":\n",
    "        qualify = improved_recommendations(event2)\n",
    "        for i in range(10):\n",
    "            l[i] = Label(root ,  text = qualify[i], font=(\"TTCommons-Italic\",14),bg=\"#2D283E\", fg =\"#802BB1\",wraplength=300)\n",
    "            l[i].grid(row = 2+i, column = 6, pady = 5)\n",
    "    elif event1 == \"Select Genre\" and event2 == \"Enter Movie Name\":\n",
    "        qualify = hybrid(event3, event4)\n",
    "        #return qualify\n",
    "        for i in range(10):\n",
    "            l[i] = Label(root,  text = qualify[i], font=(\"TTCommons-Italic\",14),bg=\"#2D283E\", fg =\"#802BB1\",wraplength=300)\n",
    "            l[i].grid(row = 2+i, column = 6, pady = 5)\n",
    "            \n",
    "    else:\n",
    "        tkm.showinfo(\"Error\", \"Please select only one system\")\n",
    "        #drop.config(text=\"Select Genre\")\n",
    "        #drop.config(text=\"Select Genre\")\n",
    "    "
   ]
  },
  {
   "cell_type": "code",
   "execution_count": 85,
   "id": "374d0ad4",
   "metadata": {},
   "outputs": [],
   "source": [
    "\n",
    "    \n",
    "\n",
    "\n",
    "# create root window\n",
    "root = Tk()\n",
    "\n",
    "# root window title and dimension4\n",
    "root.title(\"AZ Movie Recommender System\")\n",
    "#photo = PhotoImage(file = r'C:\\Users\\saumy\\cinema')\n",
    "#root.iconphoto(False, photo)\n",
    "root.iconbitmap(r'Downloads\\Camcorder.ico')\n",
    "#setting bg colour of root window\n",
    "root.configure(bg=\"#2D283E\")\n",
    "\n",
    "#root.configure(bg='PapayaWhip')\n",
    "\n",
    "# Set geometry (widthxheight)\n",
    "root.geometry('1600x700')\n",
    "\n",
    "\n",
    "\n",
    "# Dropdown menu options\n",
    "options = [\n",
    "    'Select Genre',\n",
    "    'Action',\n",
    " 'Adventure',\n",
    " 'Animation',\n",
    " 'Comedy',\n",
    " 'Crime',\n",
    " 'Documentary',\n",
    " 'Drama',\n",
    " 'Family',\n",
    " 'Fantasy',\n",
    " 'History',\n",
    " 'Horror',\n",
    " 'Music',\n",
    " 'Mystery',\n",
    " 'Romance',\n",
    " 'Science Fiction',\n",
    " 'TV Movie',\n",
    " 'Thriller',\n",
    " 'War',\n",
    " 'Western'\n",
    "]\n",
    "\n",
    "# adding a label to the root window\n",
    "l1 = Label(root, text = \"MOVIE RECOMMENDATION SYSTEM\", fg =\"#802BB1\",bg = \"#2D283E\" ,font= (\"Take A Shot Personal Use\",42))\n",
    "l1.grid(row = 0,column = 0, columnspan=10, pady = 20)\n",
    "l2 = Label(root, text = \"Select genre of the movie you want to watch : \",font= (\"CoreSansA35Light\",14),bg = \"#2D283E\" ,fg =\"#D1D7E0\", wraplength = 200)\n",
    "l2.grid(row = 1,column = 0, pady = 2, padx = 2, sticky='s')\n",
    "\n",
    "# datatype of menu text and entry widgets\n",
    "menu = StringVar()\n",
    "e1_var = IntVar()\n",
    "e2_var = StringVar()\n",
    "e3_var = StringVar()\n",
    "#pd_variable = Variable(second_frame)\n",
    "\n",
    "# initial menu text\n",
    "menu.set( \"Select Genre\" )\n",
    "e1_var.set(0)\n",
    "e2_var.set(\"Enter Movie\")\n",
    "e3_var.set(\"Enter Movie Name\")\n",
    "\n",
    "# Create Dropdown menu\n",
    "drop = OptionMenu( root , menu , *options)\n",
    "drop.grid(row = 3,column = 0, padx = 10, sticky='n')\n",
    "\n",
    "# Creating seperators for better UI \n",
    "x1 = tkinter.ttk.Separator(root, orient=VERTICAL).grid(column=1, row=1, rowspan=12, sticky='ns')\n",
    "\n",
    "l3 = Label(root, text = \"Enter movie name to get generalised recommendations\", font= (\"CoreSansA35Light\",14), wraplength=200,bg = \"#2D283E\", fg =\"#D1D7E0\")\n",
    "l3.grid(row = 1,column = 2, pady = 2, padx = 2, sticky='s')\n",
    "\n",
    "e3 = Entry(root, textvariable = e3_var, width=30,font= (\"CoreSansA35Light\",10))\n",
    "e3.grid(row = 3, column=2, pady = 2, padx = 10)\n",
    "\n",
    "\n",
    "# button widget with green color text\n",
    "button = Button(root, text = \"SEE RECOMMENDATIONS\" , fg = \"white\",bg = \"#802BB1\", command = rmovies)\n",
    "button.grid(row = 15,column = 3, sticky = 's', pady = 30)\n",
    "\n",
    "# Creating seperators for better UI \n",
    "x2 = tkinter.ttk.Separator(root, orient=VERTICAL).grid(column=3, row=1, rowspan=12, sticky='ns')\n",
    "\n",
    "# Creating label for taking movie as input for content based recommendation\n",
    "l16 = Label(root, text = \"Enter the User ID and movie name to get personalised recommendations\",fg=\"#D1D7E0\", bg =\"#2D283E\",font= (\"CoreSansA35Light\",12), wraplength=200)\n",
    "l16.grid(row = 1,column = 4, pady = 2, padx = 2,sticky='s')\n",
    "\n",
    "#Creating textbox widget to take movie input from user and display recommendations accordingly\n",
    "e1 = Entry(root, textvariable = e1_var, width=30,font= (\"CoreSansA35Light\",10))\n",
    "e1.grid(row = 3, column=4, pady = 2, padx = 10)\n",
    "e2 = Entry(root, textvariable = e2_var, width=30,font= (\"CoreSansA35Light\",10))\n",
    "e2.grid(row = 4, column=4, pady = 2, padx = 10)\n",
    "\n",
    "# Creating seperators for better UI \n",
    "x3 = tkinter.ttk.Separator(root, orient=VERTICAL).grid(column=5, row=1, rowspan=12, sticky='ns')\n",
    "\n",
    "l17 = Label(root, text=\"Results\",bg = \"#2D283E\",fg=\"#D1D7E0\", font= (\"CoreSansA35Light\",14)).grid(row=1, column= 6, sticky ='n', pady=2, padx=2)\n",
    "\n",
    "# Creating seperators for better UI \n",
    "x4 = tkinter.ttk.Separator(root, orient=HORIZONTAL).grid(column=0, row=16, columnspan=8, sticky='ew', padx = 10) \n",
    "\n",
    "#Section for all time blockbuster hits\n",
    "l4 = Label(root, text = \"All Time Favourites\", font= (\"TTCommons-DemiBoldItalic\",20), wraplength=300,bg = \"#2D283E\", fg =\"#D1D7E0\")\n",
    "l4.grid(row = 17,column = 0, pady = 2, padx = 10, sticky='s')\n",
    "\n",
    "# Read the Image\n",
    "inception = Image.open(r'Downloads/inception.jpeg')\n",
    "# Resize the image using resize() method\n",
    "resize_inception = inception.resize((150, 225))\n",
    "img = ImageTk.PhotoImage(resize_inception)\n",
    "# create label and add resize image\n",
    "l5 = Label(image=img)\n",
    "l5.image = img\n",
    "l5.grid(row= 19, column =0,sticky='s',pady=25)\n",
    "\n",
    "# Read the Image\n",
    "tdk = Image.open(r'Downloads/i2.jpg')\n",
    "# Resize the image using resize() method\n",
    "resize_tdk = tdk.resize((150, 225))\n",
    "img = ImageTk.PhotoImage(resize_tdk)\n",
    "# create label and add resize image\n",
    "l6 = Label(image=img)\n",
    "l6.image = img\n",
    "l6.grid(row= 19, column =1,sticky='s',pady=25)\n",
    "\n",
    "# Read the Image\n",
    "tdk = Image.open(r'Downloads/is.jpg')\n",
    "# Resize the image using resize() method\n",
    "resize_tdk = tdk.resize((150, 225))\n",
    "img = ImageTk.PhotoImage(resize_tdk)\n",
    "# create label and add resize image\n",
    "l7 = Label(image=img)\n",
    "l7.image = img\n",
    "l7.grid(row= 19, column =2,sticky='s',pady=25)\n",
    "\n",
    "# Read the Image\n",
    "tdk = Image.open(r'Downloads/lr.png')\n",
    "# Resize the image using resize() method\n",
    "resize_tdk = tdk.resize((150, 225))\n",
    "img = ImageTk.PhotoImage(resize_tdk)\n",
    "# create label and add resize image\n",
    "l8 = Label(image=img)\n",
    "l8.image = img\n",
    "l8.grid(row= 19, column =3,sticky='s',pady=25)\n",
    "\n",
    "# Read the Image\n",
    "tdk = Image.open(r'Downloads/pf.png')\n",
    "# Resize the image using resize() method\n",
    "resize_tdk = tdk.resize((150, 225))\n",
    "img = ImageTk.PhotoImage(resize_tdk)\n",
    "# create label and add resize image\n",
    "l9 = Label(image=img)\n",
    "l9.image = img\n",
    "l9.grid(row= 19, column =4,sticky='s',pady=25)\n",
    "\n",
    "# Read the Image\n",
    "tdk = Image.open(r'Downloads/sr.jpg')\n",
    "# Resize the image using resize() method\n",
    "resize_tdk = tdk.resize((150, 225))\n",
    "img = ImageTk.PhotoImage(resize_tdk)\n",
    "# create label and add resize image\n",
    "l10 = Label(image=img)\n",
    "l10.image = img\n",
    "l10.grid(row= 19, column =5,sticky='s',pady=25)\n",
    "\n",
    "# Read the Image\n",
    "tdk = Image.open(r'Downloads/fg.jpg')\n",
    "# Resize the image using resize() method\n",
    "resize_tdk = tdk.resize((150, 225))\n",
    "img = ImageTk.PhotoImage(resize_tdk)\n",
    "# create label and add resize image\n",
    "l11 = Label(image=img)\n",
    "l11.image = img\n",
    "l11.grid(row= 19, column =7,sticky='s',pady=25)\n",
    "\n",
    "\n",
    "# start the program\n",
    "root.mainloop()"
   ]
  },
  {
   "cell_type": "code",
   "execution_count": null,
   "id": "7b9cb197",
   "metadata": {},
   "outputs": [],
   "source": []
  }
 ],
 "metadata": {
  "kernelspec": {
   "display_name": "Python 3 (ipykernel)",
   "language": "python",
   "name": "python3"
  },
  "language_info": {
   "codemirror_mode": {
    "name": "ipython",
    "version": 3
   },
   "file_extension": ".py",
   "mimetype": "text/x-python",
   "name": "python",
   "nbconvert_exporter": "python",
   "pygments_lexer": "ipython3",
   "version": "3.11.1"
  }
 },
 "nbformat": 4,
 "nbformat_minor": 5
}
